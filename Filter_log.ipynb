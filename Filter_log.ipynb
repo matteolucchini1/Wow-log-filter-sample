{
 "cells": [
  {
   "cell_type": "code",
   "execution_count": 1,
   "id": "c3f6b182-ce02-4915-a0fa-ab5d85cbbba3",
   "metadata": {},
   "outputs": [],
   "source": [
    "import pandas as pd\n",
    "import numpy as np\n",
    "import datetime\n",
    "\n",
    "#import extra shit in case I need it\n",
    "import os\n",
    "import warnings\n",
    "\n",
    "#plots must be pretty \n",
    "import matplotlib.pyplot as plt\n",
    "import matplotlib.pylab as pl\n",
    "from matplotlib import cm\n",
    "from matplotlib.colors import TwoSlopeNorm\n",
    "\n",
    "from matplotlib import rc, rcParams\n",
    "rc('text',usetex=True)\n",
    "rc('font',**{'family':'serif','serif':['Computer Modern']})\n",
    "fi = 22\n",
    "plt.rcParams.update({'font.size': fi-5})"
   ]
  },
  {
   "cell_type": "code",
   "execution_count": 2,
   "id": "dac8d62d-214e-43fe-9b4f-7d6f34ba47c3",
   "metadata": {},
   "outputs": [
    {
     "name": "stdout",
     "output_type": "stream",
     "text": [
      "         Time             Type       Ability            Amount  \\\n",
      "0   00:22.023  Resource Change  High Voltage  1 Arcane Charges   \n",
      "1   00:36.292  Resource Change  High Voltage  1 Arcane Charges   \n",
      "2   00:58.278  Resource Change  High Voltage  1 Arcane Charges   \n",
      "3   01:20.152  Resource Change  High Voltage  1 Arcane Charges   \n",
      "4   01:42.138  Resource Change  High Voltage  1 Arcane Charges   \n",
      "5   01:43.069  Resource Change  High Voltage  1 Arcane Charges   \n",
      "6   02:04.048  Resource Change  High Voltage  1 Arcane Charges   \n",
      "7   02:04.721  Resource Change  High Voltage  1 Arcane Charges   \n",
      "8   02:26.118  Resource Change  High Voltage  1 Arcane Charges   \n",
      "9   02:26.736  Resource Change  High Voltage  1 Arcane Charges   \n",
      "10  03:09.895  Resource Change  High Voltage  1 Arcane Charges   \n",
      "11  03:31.824  Resource Change  High Voltage  1 Arcane Charges   \n",
      "12  03:32.547  Resource Change  High Voltage  1 Arcane Charges   \n",
      "13  03:54.054  Resource Change  High Voltage  1 Arcane Charges   \n",
      "14  03:54.636  Resource Change  High Voltage  1 Arcane Charges   \n",
      "15  04:09.061  Resource Change  High Voltage  1 Arcane Charges   \n",
      "16  04:30.449  Resource Change  High Voltage  1 Arcane Charges   \n",
      "17  04:31.261  Resource Change  High Voltage  1 Arcane Charges   \n",
      "18  04:52.547  Resource Change  High Voltage  1 Arcane Charges   \n",
      "19  04:53.116  Resource Change  High Voltage  1 Arcane Charges   \n",
      "20  05:14.318  Resource Change  High Voltage  1 Arcane Charges   \n",
      "21  05:37.004  Resource Change  High Voltage  1 Arcane Charges   \n",
      "22  05:58.595  Resource Change  High Voltage  1 Arcane Charges   \n",
      "23  06:20.004  Resource Change  High Voltage  1 Arcane Charges   \n",
      "24  06:20.226  Resource Change  High Voltage  1 Arcane Charges   \n",
      "25  06:20.449  Resource Change  High Voltage  1 Arcane Charges   \n",
      "26  06:42.059  Resource Change  High Voltage  1 Arcane Charges   \n",
      "27  07:04.011  Resource Change  High Voltage  1 Arcane Charges   \n",
      "28  07:25.768  Resource Change  High Voltage  1 Arcane Charges   \n",
      "29  07:47.878  Resource Change  High Voltage  1 Arcane Charges   \n",
      "30  07:48.684  Resource Change  High Voltage  1 Arcane Charges   \n",
      "31  08:10.364  Resource Change  High Voltage  1 Arcane Charges   \n",
      "32  08:35.627  Resource Change  High Voltage  1 Arcane Charges   \n",
      "33  08:57.212  Resource Change  High Voltage  1 Arcane Charges   \n",
      "34  08:58.151  Resource Change  High Voltage  1 Arcane Charges   \n",
      "35  09:19.611  Resource Change  High Voltage  1 Arcane Charges   \n",
      "36  09:41.218  Resource Change  High Voltage  1 Arcane Charges   \n",
      "37  09:44.884  Resource Change  High Voltage  1 Arcane Charges   \n",
      "38  09:45.718  Resource Change  High Voltage  1 Arcane Charges   \n",
      "39  10:07.426  Resource Change  High Voltage  1 Arcane Charges   \n",
      "40  10:33.015  Resource Change  High Voltage  1 Arcane Charges   \n",
      "41  10:54.480  Resource Change  High Voltage  1 Arcane Charges   \n",
      "42  11:16.280  Resource Change  High Voltage  1 Arcane Charges   \n",
      "43  11:16.855  Resource Change  High Voltage  1 Arcane Charges   \n",
      "44  11:38.226  Resource Change  High Voltage  1 Arcane Charges   \n",
      "45  11:56.501  Resource Change  High Voltage  1 Arcane Charges   \n",
      "46  11:56.917  Resource Change  High Voltage  1 Arcane Charges   \n",
      "47  12:19.055  Resource Change  High Voltage  1 Arcane Charges   \n",
      "48  12:40.272  Resource Change  High Voltage  1 Arcane Charges   \n",
      "49  12:40.981  Resource Change  High Voltage  1 Arcane Charges   \n",
      "\n",
      "            Source → Target  Unnamed: 5  \n",
      "0   Blinkladen → Blinkladen         NaN  \n",
      "1   Blinkladen → Blinkladen         NaN  \n",
      "2   Blinkladen → Blinkladen         NaN  \n",
      "3   Blinkladen → Blinkladen         NaN  \n",
      "4   Blinkladen → Blinkladen         NaN  \n",
      "5   Blinkladen → Blinkladen         NaN  \n",
      "6   Blinkladen → Blinkladen         NaN  \n",
      "7   Blinkladen → Blinkladen         NaN  \n",
      "8   Blinkladen → Blinkladen         NaN  \n",
      "9   Blinkladen → Blinkladen         NaN  \n",
      "10  Blinkladen → Blinkladen         NaN  \n",
      "11  Blinkladen → Blinkladen         NaN  \n",
      "12  Blinkladen → Blinkladen         NaN  \n",
      "13  Blinkladen → Blinkladen         NaN  \n",
      "14  Blinkladen → Blinkladen         NaN  \n",
      "15  Blinkladen → Blinkladen         NaN  \n",
      "16  Blinkladen → Blinkladen         NaN  \n",
      "17  Blinkladen → Blinkladen         NaN  \n",
      "18  Blinkladen → Blinkladen         NaN  \n",
      "19  Blinkladen → Blinkladen         NaN  \n",
      "20  Blinkladen → Blinkladen         NaN  \n",
      "21  Blinkladen → Blinkladen         NaN  \n",
      "22  Blinkladen → Blinkladen         NaN  \n",
      "23  Blinkladen → Blinkladen         NaN  \n",
      "24  Blinkladen → Blinkladen         NaN  \n",
      "25  Blinkladen → Blinkladen         NaN  \n",
      "26  Blinkladen → Blinkladen         NaN  \n",
      "27  Blinkladen → Blinkladen         NaN  \n",
      "28  Blinkladen → Blinkladen         NaN  \n",
      "29  Blinkladen → Blinkladen         NaN  \n",
      "30  Blinkladen → Blinkladen         NaN  \n",
      "31  Blinkladen → Blinkladen         NaN  \n",
      "32  Blinkladen → Blinkladen         NaN  \n",
      "33  Blinkladen → Blinkladen         NaN  \n",
      "34  Blinkladen → Blinkladen         NaN  \n",
      "35  Blinkladen → Blinkladen         NaN  \n",
      "36  Blinkladen → Blinkladen         NaN  \n",
      "37  Blinkladen → Blinkladen         NaN  \n",
      "38  Blinkladen → Blinkladen         NaN  \n",
      "39  Blinkladen → Blinkladen         NaN  \n",
      "40  Blinkladen → Blinkladen         NaN  \n",
      "41  Blinkladen → Blinkladen         NaN  \n",
      "42  Blinkladen → Blinkladen         NaN  \n",
      "43  Blinkladen → Blinkladen         NaN  \n",
      "44  Blinkladen → Blinkladen         NaN  \n",
      "45  Blinkladen → Blinkladen         NaN  \n",
      "46  Blinkladen → Blinkladen         NaN  \n",
      "47  Blinkladen → Blinkladen         NaN  \n",
      "48  Blinkladen → Blinkladen         NaN  \n",
      "49  Blinkladen → Blinkladen         NaN  \n"
     ]
    }
   ],
   "source": [
    "hv_procs = pd.read_csv(\"HV_procs.csv\")\n",
    "print(hv_procs)"
   ]
  },
  {
   "cell_type": "code",
   "execution_count": 3,
   "id": "329ccb2a-5789-40df-a0fe-4ae0f964f5a8",
   "metadata": {},
   "outputs": [
    {
     "name": "stdout",
     "output_type": "stream",
     "text": [
      "          Time  Type          Ability                Source → Target  \\\n",
      "0    00:14.833  Cast   Arcane Barrage  Blinkladen → Training Dummy 1   \n",
      "1    00:16.041  Cast   Arcane Barrage  Blinkladen → Training Dummy 1   \n",
      "2    00:18.473  Cast   Arcane Barrage  Blinkladen → Training Dummy 1   \n",
      "3    00:19.701  Cast   Arcane Barrage  Blinkladen → Training Dummy 1   \n",
      "4    00:20.875  Cast  Arcane Missiles  Blinkladen → Training Dummy 1   \n",
      "..         ...   ...              ...                            ...   \n",
      "442  12:45.563  Cast   Arcane Barrage  Blinkladen → Training Dummy 2   \n",
      "443  12:48.008  Cast   Arcane Barrage  Blinkladen → Training Dummy 2   \n",
      "444  12:49.167  Cast   Arcane Barrage  Blinkladen → Training Dummy 2   \n",
      "445  12:51.611  Cast   Arcane Barrage  Blinkladen → Training Dummy 2   \n",
      "446  12:52.876  Cast   Arcane Barrage  Blinkladen → Training Dummy 2   \n",
      "\n",
      "     Unnamed: 4  \n",
      "0           NaN  \n",
      "1           NaN  \n",
      "2           NaN  \n",
      "3           NaN  \n",
      "4           NaN  \n",
      "..          ...  \n",
      "442         NaN  \n",
      "443         NaN  \n",
      "444         NaN  \n",
      "445         NaN  \n",
      "446         NaN  \n",
      "\n",
      "[447 rows x 5 columns]\n"
     ]
    }
   ],
   "source": [
    "spell_casts = pd.read_csv(\"Spell_casts.csv\")\n",
    "print(spell_casts)"
   ]
  },
  {
   "cell_type": "code",
   "execution_count": 4,
   "id": "56d7393f-69bf-437e-b2ef-2eb37806e174",
   "metadata": {},
   "outputs": [],
   "source": [
    "am_filter = spell_casts[spell_casts.apply(lambda r: r.str.contains('Arcane Missiles').any(), axis=1)]\n",
    "abarr_filter = spell_casts[spell_casts.apply(lambda r: r.str.contains('Arcane Barrage').any(), axis=1)]"
   ]
  },
  {
   "cell_type": "code",
   "execution_count": 5,
   "id": "0e9703b0-37ab-4443-a6ac-2711d800e09d",
   "metadata": {},
   "outputs": [
    {
     "name": "stdout",
     "output_type": "stream",
     "text": [
      "[ 20.875  35.455  57.473  79.424 101.305 123.285 145.222 167.09  189.097\n",
      " 211.041 232.977 247.61  269.464 291.478 313.422 335.36  357.199 379.221\n",
      " 401.115 423.108 444.977 466.977 488.916 514.511 536.393 558.393 580.317\n",
      " 583.98  605.906 631.461 653.412 675.384 697.321 715.605 737.502 759.481]\n",
      "[ 22.023  36.292  58.278  80.152 102.138 103.069 124.048 124.721 146.118\n",
      " 146.736 189.895 211.824 212.547 234.054 234.636 249.061 270.449 271.261\n",
      " 292.547 293.116 314.318 337.004 358.595 380.004 380.226 380.449 402.059\n",
      " 424.011 445.768 467.878 468.684 490.364 515.627 537.212 538.151 559.611\n",
      " 581.218 584.884 585.718 607.426 633.015 654.48  676.28  676.855 698.226\n",
      " 716.501 716.917 739.055 760.272 760.981]\n"
     ]
    }
   ],
   "source": [
    "def format_times(input_column): \n",
    "    formatted_times = np.zeros(input_column.shape[0])\n",
    "    for ind in range(input_column.shape[0]):\n",
    "        formatted_times[ind] = 60*float(input_column.values[ind].split(\":\")[0]) + \\\n",
    "                                  float(input_column.values[ind].split(\":\")[1])\n",
    "    return formatted_times\n",
    "\n",
    "am_times = format_times(am_filter[\"Time\"])\n",
    "print(am_times)\n",
    "\n",
    "hv_times = format_times(hv_procs[\"Time\"])\n",
    "print(hv_times)"
   ]
  },
  {
   "cell_type": "code",
   "execution_count": 6,
   "id": "aa0641b1-c4f5-4ade-a992-fdce716b5280",
   "metadata": {},
   "outputs": [
    {
     "name": "stdout",
     "output_type": "stream",
     "text": [
      "[1. 1. 1. 1. 2. 2. 2. 0. 1. 2. 2. 1. 2. 2. 1. 1. 1. 3. 1. 1. 1. 2. 1. 1.\n",
      " 2. 1. 1. 2. 1. 1. 1. 2. 1. 2. 1. 2.]\n"
     ]
    }
   ],
   "source": [
    "#look for the shortest time between am casts as a proxy to distinguish them\n",
    "min_am_cast = np.min(np.diff(am_times))\n",
    "\n",
    "#this is a shit check, instead I shuld filter between cast starts and finishes from the log but idk where the info is\n",
    "hv_procs = np.zeros(len(am_times))\n",
    "for cast in range(len(am_times)):\n",
    "    hv_procs[cast] = 0\n",
    "    for proc in range(len(hv_times)):\n",
    "        if (hv_times[proc] - am_times[cast] < min_am_cast) and (hv_times[proc] - am_times[cast] > 0):\n",
    "            hv_procs[cast] = hv_procs[cast] + 1\n",
    "            \n",
    "print(hv_procs)"
   ]
  },
  {
   "cell_type": "code",
   "execution_count": 7,
   "id": "3bade3b7-2d82-4a22-9e79-a88fc624e9f4",
   "metadata": {},
   "outputs": [
    {
     "data": {
      "image/png": "[encoded data removed]",
      "text/plain": [
       "<Figure size 640x480 with 1 Axes>"
      ]
     },
     "metadata": {},
     "output_type": "display_data"
    }
   ],
   "source": [
    "labels, counts = np.unique(hv_procs, return_counts=True)\n",
    "plt.bar(labels, counts, align='center')\n",
    "plt.gca().set_xticks(labels)\n",
    "plt.xlabel(\"HV procs per AM\")\n",
    "plt.ylabel(\"Events\")\n",
    "plt.savefig(\"HV_procs.pdf\")"
   ]
  },
  {
   "cell_type": "code",
   "execution_count": 8,
   "id": "3859c711-a816-4ab8-8388-729ac601a79b",
   "metadata": {},
   "outputs": [],
   "source": [
    "full_array = np.stack([labels, counts], axis=1)\n",
    "\n",
    "np.savetxt(\"HV_distribution.txt\",full_array, delimiter=\"\\t\", header=\"Charges\\t   Counts\", comments='')"
   ]
  }
 ],
 "metadata": {
  "kernelspec": {
   "display_name": "Python 3 (ipykernel)",
   "language": "python",
   "name": "python3"
  },
  "language_info": {
   "codemirror_mode": {
    "name": "ipython",
    "version": 3
   },
   "file_extension": ".py",
   "mimetype": "text/x-python",
   "name": "python",
   "nbconvert_exporter": "python",
   "pygments_lexer": "ipython3",
   "version": "3.10.12"
  }
 },
 "nbformat": 4,
 "nbformat_minor": 5
}
